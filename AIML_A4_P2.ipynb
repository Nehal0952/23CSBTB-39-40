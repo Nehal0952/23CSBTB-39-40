{
  "nbformat": 4,
  "nbformat_minor": 0,
  "metadata": {
    "colab": {
      "provenance": [],
      "authorship_tag": "ABX9TyPO1LZNBCJ5SW02lgmS7IQQ",
      "include_colab_link": true
    },
    "kernelspec": {
      "name": "python3",
      "display_name": "Python 3"
    },
    "language_info": {
      "name": "python"
    }
  },
  "cells": [
    {
      "cell_type": "markdown",
      "metadata": {
        "id": "view-in-github",
        "colab_type": "text"
      },
      "source": [
        "<a href=\"https://colab.research.google.com/github/Nehal0952/23CSBTB-39-40/blob/main/AIML_A4_P2.ipynb\" target=\"_parent\"><img src=\"https://colab.research.google.com/assets/colab-badge.svg\" alt=\"Open In Colab\"/></a>"
      ]
    },
    {
      "cell_type": "code",
      "execution_count": 1,
      "metadata": {
        "colab": {
          "base_uri": "https://localhost:8080/"
        },
        "id": "llbhZ2a-RwFX",
        "outputId": "c8f4ed36-00c9-47d4-f9ee-67b740bac7cd"
      },
      "outputs": [
        {
          "output_type": "stream",
          "name": "stdout",
          "text": [
            "Intercept: 0.1830010302027414\n",
            "Slope: 2.3507142730906527\n",
            "CDF of the predictions: [0.85203072 0.09430591 0.33795576 0.56619688 0.93605747 0.57392155\n",
            " 0.36558592 0.96925959 0.10134831 0.26948584 0.12461564 0.34137493\n",
            " 0.95737152 0.45519117 0.4741143  0.13723731 0.90781666 0.12248601\n",
            " 0.65225593 0.39276962]\n"
          ]
        }
      ],
      "source": [
        "import numpy as np\n",
        "from sklearn.model_selection import train_test_split\n",
        "X = np.random.rand(100, 1)\n",
        "Y = 3 * X.squeeze() + np.random.randn(100)\n",
        "\n",
        "X_train, X_test, Y_train, Y_test = train_test_split(X, Y, test_size=0.2, random_state=42)\n",
        "from sklearn.linear_model import LinearRegression\n",
        "\n",
        "model = LinearRegression()\n",
        "model.fit(X_train, Y_train)\n",
        "import scipy.stats as stats\n",
        "intercept = model.intercept_\n",
        "slope = model.coef_[0]\n",
        "Y_pred = model.predict(X_test)\n",
        "cdf_values = stats.norm.cdf(Y_pred, np.mean(Y_pred), np.std(Y_pred))\n",
        "print(f\"Intercept: {intercept}\")\n",
        "print(f\"Slope: {slope}\")\n",
        "print(f\"CDF of the predictions: {cdf_values}\")"
      ]
    }
  ]
}